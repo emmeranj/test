{
  "nbformat": 4,
  "nbformat_minor": 0,
  "metadata": {
    "colab": {
      "name": "Bayes_by_Backprop.ipynb",
      "provenance": [],
      "authorship_tag": "ABX9TyMg2sEbIYXsRtqNAvWI6on5",
      "include_colab_link": true
    },
    "kernelspec": {
      "name": "python3",
      "display_name": "Python 3"
    },
    "language_info": {
      "name": "python"
    }
  },
  "cells": [
    {
      "cell_type": "markdown",
      "metadata": {
        "id": "view-in-github",
        "colab_type": "text"
      },
      "source": [
        "<a href=\"https://colab.research.google.com/github/emmeranj/test/blob/main/Bayes_by_Backprop.ipynb\" target=\"_parent\"><img src=\"https://colab.research.google.com/assets/colab-badge.svg\" alt=\"Open In Colab\"/></a>"
      ]
    },
    {
      "cell_type": "code",
      "metadata": {
        "id": "swaI8BjpMpnk"
      },
      "source": [
        "import torch\n",
        "import matplotlib.pyplot as plt\n",
        "import torch.nn as nn\n",
        "import torch.nn.functional as F"
      ],
      "execution_count": 28,
      "outputs": []
    },
    {
      "cell_type": "markdown",
      "metadata": {
        "id": "sg2zvOC7N6H4"
      },
      "source": [
        "# Create some data to play around with"
      ]
    },
    {
      "cell_type": "code",
      "metadata": {
        "id": "TU0tFh_ROAIE"
      },
      "source": [
        "m = torch.distributions.uniform.Uniform(-3, 3)\n",
        "noise = torch.distributions.normal.Normal(torch.tensor([0.0]), torch.tensor([0.5]))\n",
        "x = m.sample([100])\n",
        "y = x**2 + noise.sample([100]).squeeze(1)"
      ],
      "execution_count": 24,
      "outputs": []
    },
    {
      "cell_type": "code",
      "metadata": {
        "colab": {
          "base_uri": "https://localhost:8080/",
          "height": 282
        },
        "id": "i8YewcQ4PcuJ",
        "outputId": "ecf79675-815f-4a20-e10b-096cc3154288"
      },
      "source": [
        "plt.scatter(x.numpy(), y.numpy())"
      ],
      "execution_count": 27,
      "outputs": [
        {
          "output_type": "execute_result",
          "data": {
            "text/plain": [
              "<matplotlib.collections.PathCollection at 0x7f161b7fd750>"
            ]
          },
          "metadata": {},
          "execution_count": 27
        },
        {
          "output_type": "display_data",
          "data": {
            "image/png": "[encoded data removed]",
            "text/plain": [
              "<Figure size 432x288 with 1 Axes>"
            ]
          },
          "metadata": {
            "needs_background": "light"
          }
        }
      ]
    },
    {
      "cell_type": "markdown",
      "metadata": {
        "id": "ROWO7Y3aQKfh"
      },
      "source": [
        "# Neural Network"
      ]
    },
    {
      "cell_type": "code",
      "metadata": {
        "id": "-ehH-pJXQQ3N"
      },
      "source": [
        "class Net(nn.Module):\n",
        "\n",
        "    def __init__(self):\n",
        "        super(Net, self).__init__()\n",
        "        self.fc1 = nn.Linear(1, 16)\n",
        "        self.fc2 = nn.Linear(16, 16)\n",
        "        self.fc3 = nn.Linear(16, 1)\n",
        "\n",
        "    def forward(self, x):\n",
        "        x = F.relu(self.fc1(x))\n",
        "        x = F.relu(self.fc2(x))\n",
        "        x = self.fc3(x)\n",
        "        return x"
      ],
      "execution_count": 29,
      "outputs": []
    },
    {
      "cell_type": "code",
      "metadata": {
        "colab": {
          "base_uri": "https://localhost:8080/"
        },
        "id": "Mpz35dBgQqQw",
        "outputId": "8d973881-96f0-4916-de1a-d0e1d4d2fb9b"
      },
      "source": [
        "net = Net()\n",
        "print(net)"
      ],
      "execution_count": 30,
      "outputs": [
        {
          "output_type": "stream",
          "name": "stdout",
          "text": [
            "Net(\n",
            "  (fc1): Linear(in_features=1, out_features=16, bias=True)\n",
            "  (fc2): Linear(in_features=16, out_features=16, bias=True)\n",
            "  (fc3): Linear(in_features=16, out_features=1, bias=True)\n",
            ")\n"
          ]
        }
      ]
    },
    {
      "cell_type": "markdown",
      "metadata": {
        "id": "OlwoMvjaRARm"
      },
      "source": [
        "# Prior on NN weights"
      ]
    },
    {
      "cell_type": "code",
      "metadata": {
        "id": "z48mivrFRRtE"
      },
      "source": [
        "def count_parameters(model):\n",
        "    return sum(p.numel() for p in model.parameters() if p.requires_grad)"
      ],
      "execution_count": 35,
      "outputs": []
    },
    {
      "cell_type": "code",
      "metadata": {
        "id": "q8VjJqwnRCBX"
      },
      "source": [
        "w_dim = count_parameters(net)"
      ],
      "execution_count": 37,
      "outputs": []
    },
    {
      "cell_type": "code",
      "metadata": {
        "id": "ZYYm56lNRkDS"
      },
      "source": [
        "prior = torch.distributions.multivariate_normal.MultivariateNormal(torch.zeros(w_dim), torch.eye(w_dim))"
      ],
      "execution_count": 38,
      "outputs": []
    },
    {
      "cell_type": "markdown",
      "metadata": {
        "id": "uelgVfTlR-PI"
      },
      "source": [
        "# Variational Posterior"
      ]
    },
    {
      "cell_type": "code",
      "metadata": {
        "colab": {
          "base_uri": "https://localhost:8080/"
        },
        "id": "WpCPnjhTSXVS",
        "outputId": "7f3f9471-3d5e-4286-dd2f-a20638c17450"
      },
      "source": [
        "rho = torch.tensor([-5,2,3])"
      ],
      "execution_count": 41,
      "outputs": [
        {
          "output_type": "execute_result",
          "data": {
            "text/plain": [
              "tensor([0.0067, 2.1269, 3.0486])"
            ]
          },
          "metadata": {},
          "execution_count": 41
        }
      ]
    },
    {
      "cell_type": "code",
      "metadata": {
        "id": "t5FZnsJsSTg2"
      },
      "source": [
        "variational_posterior = torch.distributions.multivariate_normal.MultivariateNormal(mu, torch.log(1+torch.exp(rho))*torch.eye(w_dim))"
      ],
      "execution_count": null,
      "outputs": []
    },
    {
      "cell_type": "markdown",
      "metadata": {
        "id": "Ng0wWfTGSnx3"
      },
      "source": [
        "# Unbiased MC gradients "
      ]
    },
    {
      "cell_type": "code",
      "metadata": {
        "id": "OE-aUQhnSugQ"
      },
      "source": [
        "def f(w, theta, x, y):\n",
        "  variational_posterior = torch.distributions.multivariate_normal.MultivariateNormal(theta[0], torch.log(1+torch.exp(theta[1]))*torch.eye(w_dim))\n",
        "  prior = torch.distributions.multivariate_normal.MultivariateNormal(torch.zeros(w_dim), torch.eye(w_dim))\n",
        "  net = Net()\n",
        "  net.load_state_dict(w)\n",
        "  return variational_posterior.log_prob(w) - prior.log_prob(w) - torch.distributions.multivariate_normal.MultivariateNormal(net(x.unsqueeze(1)).squeeze(1), 0.5*torch.eye(x.size()[0])).log_prob(y)"
      ],
      "execution_count": 66,
      "outputs": []
    },
    {
      "cell_type": "code",
      "metadata": {
        "id": "fAC4Q9r0WvNK"
      },
      "source": [
        "def F(theta, x, y, n):\n",
        "  variational_posterior = torch.distributions.multivariate_normal.MultivariateNormal(theta[0], torch.log(1+torch.exp(theta[1]))*torch.eye(w_dim))\n",
        "  ELBO = 0\n",
        "  for i in range(n):\n",
        "    w = variational_posterior.sample()\n",
        "    # need to modify here so that w is in right format...\n",
        "    ELBO += f(w, theta, x, y)\n",
        "  return(ELBO)"
      ],
      "execution_count": null,
      "outputs": []
    },
    {
      "cell_type": "markdown",
      "metadata": {
        "id": "TIe28TENWnCp"
      },
      "source": [
        "# How to format w in f above"
      ]
    },
    {
      "cell_type": "code",
      "metadata": {
        "id": "_3NL3l_lT_-k"
      },
      "source": [
        "net1 = Net()\n",
        "net2 = Net()"
      ],
      "execution_count": 67,
      "outputs": []
    },
    {
      "cell_type": "code",
      "metadata": {
        "colab": {
          "base_uri": "https://localhost:8080/"
        },
        "id": "zRiiWah3VzsN",
        "outputId": "bbac4e1a-bae2-4eb2-fa74-4834c629d08a"
      },
      "source": [
        "net1.parameters() == sd = net1.state_dict()\n",
        "net2.load_state_dict(sd)net2.parameters()"
      ],
      "execution_count": 77,
      "outputs": [
        {
          "output_type": "execute_result",
          "data": {
            "text/plain": [
              "False"
            ]
          },
          "metadata": {},
          "execution_count": 77
        }
      ]
    },
    {
      "cell_type": "code",
      "metadata": {
        "colab": {
          "base_uri": "https://localhost:8080/"
        },
        "id": "yvHq10rKWP0a",
        "outputId": "d0de215c-0904-41f0-81d1-8d576dd560fe"
      },
      "source": [
        "for p in net1.parameters():\n",
        "  print(p[0])"
      ],
      "execution_count": 79,
      "outputs": [
        {
          "output_type": "stream",
          "name": "stdout",
          "text": [
            "tensor([0.3923], grad_fn=<SelectBackward>)\n",
            "tensor(0.9855, grad_fn=<SelectBackward>)\n",
            "tensor([ 0.1182,  0.2397,  0.1912, -0.1782, -0.2465, -0.0044, -0.1545,  0.0541,\n",
            "        -0.0403,  0.1524,  0.0251, -0.2313,  0.1256, -0.1033,  0.1563,  0.0043],\n",
            "       grad_fn=<SelectBackward>)\n",
            "tensor(0.0255, grad_fn=<SelectBackward>)\n",
            "tensor([ 0.1889, -0.1914,  0.0198, -0.0099,  0.0447, -0.1921, -0.1284,  0.0099,\n",
            "        -0.2386,  0.1398, -0.1031,  0.0233, -0.1789, -0.0380, -0.1616,  0.1988],\n",
            "       grad_fn=<SelectBackward>)\n",
            "tensor(0.0029, grad_fn=<SelectBackward>)\n"
          ]
        }
      ]
    },
    {
      "cell_type": "code",
      "metadata": {
        "colab": {
          "base_uri": "https://localhost:8080/"
        },
        "id": "G2juQvxHWUjR",
        "outputId": "37535514-a9a4-4d19-9b22-dd46a519df26"
      },
      "source": [
        "for p in net2.parameters():\n",
        "  print(p[0])"
      ],
      "execution_count": 80,
      "outputs": [
        {
          "output_type": "stream",
          "name": "stdout",
          "text": [
            "tensor([0.3923], grad_fn=<SelectBackward>)\n",
            "tensor(0.9855, grad_fn=<SelectBackward>)\n",
            "tensor([ 0.1182,  0.2397,  0.1912, -0.1782, -0.2465, -0.0044, -0.1545,  0.0541,\n",
            "        -0.0403,  0.1524,  0.0251, -0.2313,  0.1256, -0.1033,  0.1563,  0.0043],\n",
            "       grad_fn=<SelectBackward>)\n",
            "tensor(0.0255, grad_fn=<SelectBackward>)\n",
            "tensor([ 0.1889, -0.1914,  0.0198, -0.0099,  0.0447, -0.1921, -0.1284,  0.0099,\n",
            "        -0.2386,  0.1398, -0.1031,  0.0233, -0.1789, -0.0380, -0.1616,  0.1988],\n",
            "       grad_fn=<SelectBackward>)\n",
            "tensor(0.0029, grad_fn=<SelectBackward>)\n"
          ]
        }
      ]
    }
  ]
}